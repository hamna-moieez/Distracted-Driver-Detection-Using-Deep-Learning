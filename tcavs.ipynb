{
 "cells": [
  {
   "cell_type": "code",
   "execution_count": 54,
   "metadata": {},
   "outputs": [],
   "source": [
    "import numpy as np\n",
    "import matplotlib.pyplot as plt\n",
    "import pickle\n",
    "from sklearn.linear_model import LogisticRegression\n",
    "import random\n",
    "import seaborn as sns\n",
    "\n",
    "%matplotlib inline"
   ]
  },
  {
   "cell_type": "code",
   "execution_count": 2,
   "metadata": {},
   "outputs": [],
   "source": [
    "def get_logreg_model(X, y):\n",
    "    clf = LogisticRegression(solver='lbfgs', class_weight='balanced', max_iter=10000).fit(X, y)\n",
    "    return -1*clf.coef_.flatten()"
   ]
  },
  {
   "cell_type": "code",
   "execution_count": 3,
   "metadata": {},
   "outputs": [],
   "source": [
    "imgs = pickle.load(open(\"tcavs/images.pickle\", \"rb\"))\n",
    "concepts = pickle.load(open(\"tcavs/google_concepts.pickle\", \"rb\"))\n",
    "base = pickle.load(open(\"tcavs/concepts.pickle\", \"rb\"))"
   ]
  },
  {
   "cell_type": "code",
   "execution_count": 4,
   "metadata": {},
   "outputs": [
    {
     "data": {
      "text/plain": [
       "dict_keys(['talking_to_passenger', 'talking_on_the_phone_left', 'hair_makeup', 'texting_right', 'talking_on_the_phone_right', 'operating_the_radio', 'drinking', 'texting_left', 'reaching_behind', 'safe_driving'])"
      ]
     },
     "execution_count": 4,
     "metadata": {},
     "output_type": "execute_result"
    }
   ],
   "source": [
    "base.keys()"
   ]
  },
  {
   "cell_type": "code",
   "execution_count": 5,
   "metadata": {},
   "outputs": [],
   "source": [
    "def compute_direc_derivative(x, y):\n",
    "    a = np.dot(x, y)\n",
    "    return a < 0"
   ]
  },
  {
   "cell_type": "code",
   "execution_count": 22,
   "metadata": {},
   "outputs": [
    {
     "name": "stdout",
     "output_type": "stream",
     "text": [
      "['talking_to_passenger', 'hair_makeup', 'talking_on_the_phone_right', 'operating_the_radio', 'drinking', 'texting_left', 'reaching_behind']\n"
     ]
    }
   ],
   "source": [
    "distractions = list(concepts.keys())\n",
    "print(distractions)"
   ]
  },
  {
   "cell_type": "code",
   "execution_count": 8,
   "metadata": {},
   "outputs": [],
   "source": [
    "dict_of_X = {}\n",
    "dict_of_y = {}\n",
    "for distraction in distractions:\n",
    "        for concept_fts in concepts[distraction]:\n",
    "            if distraction not in dict_of_X.keys():\n",
    "                dict_of_X[distraction] = []\n",
    "                dict_of_y[distraction] = []\n",
    "                dict_of_X[distraction].append(concept_fts)\n",
    "                #f distraction == \"safe_driving\":\n",
    "#                 dict_of_y[distraction].append(np.zeros_like(concept_fts.shape))\n",
    "                dict_of_y[distraction].append(np.ones_like(concept_fts.shape))\n",
    "            else:\n",
    "                dict_of_X[distraction].append(concept_fts)\n",
    "                #if distraction == \"safe_driving\":\n",
    "#                 dict_of_y[distraction].append(np.zeros_like(concept_fts.shape))\n",
    "                dict_of_y[distraction].append(np.ones_like(concept_fts.shape))"
   ]
  },
  {
   "cell_type": "code",
   "execution_count": 9,
   "metadata": {},
   "outputs": [],
   "source": [
    "base_dist = \"safe_driving\"\n",
    "dict_of_X[\"safe_driving\"] = []\n",
    "dict_of_y[\"safe_driving\"] = []\n",
    "for base_fts in base[\"safe_driving\"]:\n",
    "        dict_of_X[\"safe_driving\"].append(base_fts)\n",
    "        #f distraction == \"safe_driving\":\n",
    "        dict_of_y[base_dist].append(np.zeros_like(base_fts.shape))\n",
    "        #else: dict_of_y[distraction].append(np.ones_like(concept_fts.shape))\n",
    "#     else:\n",
    "#         dict_of_X[\"safe_driving\"].append(base_fts)\n",
    "#         #if distraction == \"safe_driving\":\n",
    "#         dict_of_y[\"safe_driving\"].append(np.zeros_like(base_fts.shape))\n",
    "#         #else: dict_of_y[distraction].append(np.ones_like(concept_fts.shape))"
   ]
  },
  {
   "cell_type": "code",
   "execution_count": 10,
   "metadata": {},
   "outputs": [],
   "source": [
    "base_X = dict_of_X[\"safe_driving\"]\n",
    "base_y = dict_of_y[\"safe_driving\"]"
   ]
  },
  {
   "cell_type": "code",
   "execution_count": 37,
   "metadata": {},
   "outputs": [],
   "source": [
    "# first concept - talking_to_passenger\n",
    "# do this for all\n",
    "X_unshuff = base_X + dict_of_X[\"operating_the_radio\"]\n",
    "y_unshuff = base_y + dict_of_y[\"operating_the_radio\"]\n",
    "\n",
    "c = list(zip(X_unshuff, y_unshuff))\n",
    "\n",
    "X, y = zip(*c)"
   ]
  },
  {
   "cell_type": "code",
   "execution_count": 38,
   "metadata": {},
   "outputs": [
    {
     "name": "stderr",
     "output_type": "stream",
     "text": [
      "/Users/Janjua/opt/anaconda3/envs/rl/lib/python3.8/site-packages/sklearn/utils/validation.py:72: DataConversionWarning: A column-vector y was passed when a 1d array was expected. Please change the shape of y to (n_samples, ), for example using ravel().\n",
      "  return f(**kwargs)\n"
     ]
    }
   ],
   "source": [
    "wts = get_logreg_model(X, y)"
   ]
  },
  {
   "cell_type": "code",
   "execution_count": 39,
   "metadata": {},
   "outputs": [
    {
     "name": "stdout",
     "output_type": "stream",
     "text": [
      "talking_to_passenger - TCAV Score 0.3333333333333333\n",
      "hair_makeup - TCAV Score 0.13333333333333333\n",
      "talking_on_the_phone_right - TCAV Score 0.23333333333333334\n",
      "operating_the_radio - TCAV Score 0.5666666666666667\n",
      "drinking - TCAV Score 0.23333333333333334\n",
      "texting_left - TCAV Score 0.2\n",
      "reaching_behind - TCAV Score 0.2\n"
     ]
    }
   ],
   "source": [
    "for distraction in distractions:\n",
    "    count = 0\n",
    "    img_counter = 0\n",
    "    if distraction != \"safe_driving\":\n",
    "        for img_fts in imgs[distraction]:\n",
    "            img_counter += 1\n",
    "            dydx = compute_direc_derivative(img_fts, wts)\n",
    "            if dydx: \n",
    "                count += 1\n",
    "\n",
    "        print(f\"{distraction} - TCAV Score {count/img_counter}\")"
   ]
  },
  {
   "cell_type": "code",
   "execution_count": 59,
   "metadata": {},
   "outputs": [
    {
     "data": {
      "image/png": "[encoded data removed]",
      "text/plain": [
       "<Figure size 432x288 with 1 Axes>"
      ]
     },
     "metadata": {},
     "output_type": "display_data"
    }
   ],
   "source": [
    "plt.rcParams['text.usetex'] = False\n",
    "tcavs = [0.33, 0.13, 0.23, 0.56, 0.23, 0.2, 0.2]\n",
    "bars = [x for x in range(len(tcavs))]\n",
    "plt.bar(bars, tcavs)\n",
    "plt.xticks(bars, distractions, rotation='90')\n",
    "plt.xlabel(\"Class Name\")\n",
    "plt.ylabel(\"TCAV Score\")\n",
    "plt.title(\"TCAVs for Concept Operating Radio\")\n",
    "sns.set(rc={'text.usetex': False})\n",
    "plt.savefig(\"\")\n",
    "plt.show()"
   ]
  },
  {
   "cell_type": "code",
   "execution_count": null,
   "metadata": {},
   "outputs": [],
   "source": []
  }
 ],
 "metadata": {
  "kernelspec": {
   "display_name": "Python 3",
   "language": "python",
   "name": "python3"
  },
  "language_info": {
   "codemirror_mode": {
    "name": "ipython",
    "version": 3
   },
   "file_extension": ".py",
   "mimetype": "text/x-python",
   "name": "python",
   "nbconvert_exporter": "python",
   "pygments_lexer": "ipython3",
   "version": "3.8.5"
  }
 },
 "nbformat": 4,
 "nbformat_minor": 4
}
