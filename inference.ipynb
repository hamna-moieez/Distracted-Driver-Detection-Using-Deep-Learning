{
 "cells": [
  {
   "cell_type": "code",
   "execution_count": 1,
   "metadata": {},
   "outputs": [],
   "source": [
    "#Files\n",
    "import numpy as np\n",
    "import pandas as pd\n",
    "import matplotlib.pyplot as plt\n",
    "import os\n",
    "import cv2\n",
    "import glob\n",
    "import pickle\n",
    "\n",
    "#DATA\n",
    "from keras.preprocessing.sequence import pad_sequences\n",
    "from keras.preprocessing.text import one_hot\n",
    "from keras.utils.np_utils import to_categorical\n",
    "from sklearn.model_selection import train_test_split\n",
    "import matplotlib.image as mpimg\n",
    "\n",
    "#CNN\n",
    "import tensorflow as tf\n",
    "from tensorflow import keras\n",
    "from tensorflow.keras.preprocessing import image\n",
    "from tensorflow.keras import layers\n",
    "from keras.models import Sequential\n",
    "from keras.layers import Convolution2D,MaxPooling2D,Flatten,Dense\n",
    "from tensorflow.keras.optimizers import Adam, SGD\n",
    "from keras.losses import CategoricalCrossentropy\n",
    "from tensorflow.keras.applications.vgg16 import preprocess_input\n",
    "from tensorflow.keras.applications.vgg16 import VGG16\n",
    "\n",
    "#VIS\n",
    "from keras.utils.vis_utils import plot_model"
   ]
  },
  {
   "cell_type": "code",
   "execution_count": 2,
   "metadata": {},
   "outputs": [],
   "source": [
    "BASE_PATH = '/Users/hamnamoieez/Desktop/PRDL/Distracted-Driver-Detection-Using-Deep-Learning/'\n",
    "img_path = os.path.join(BASE_PATH, 'imgs/train')\n",
    "test_path =  os.path.join(BASE_PATH, 'imgs/test/')\n",
    "weights_path = os.path.join(BASE_PATH, 'weights/')\n",
    "class_mapper = {0: \"safe driving\",\n",
    "                1: \"texting - right\",\n",
    "                2: \"talking on the phone - right\",\n",
    "                3: \"texting - left\",\n",
    "                4: \"talking on the phone - left\",\n",
    "                5: \"operating the radio\",\n",
    "                6: \"drinking\",\n",
    "                7: \"reaching behind\",\n",
    "                8: \"hair and makeup\",\n",
    "                9: \"talking to passenger\"}"
   ]
  },
  {
   "cell_type": "code",
   "execution_count": 3,
   "metadata": {},
   "outputs": [],
   "source": [
    "def _prepareData(path): \n",
    "    '''\n",
    "    params: path(string)\n",
    "    return: [list list] of images in dataset and the list of labels\n",
    "    '''\n",
    "    labelsList = []\n",
    "    listOfimg = []\n",
    "    for directory in sorted(glob.glob(os.path.join(path, '*')), key = lambda k: k.split(\"/\")[-1]):\n",
    "            for img in glob.glob(os.path.join(directory,'*.jpg')):\n",
    "                imgcv = cv2.imread(img)\n",
    "                imgcv_r = cv2.resize(imgcv,(112,112))\n",
    "                listOfimg.append(imgcv_r)\n",
    "                labelsList.append(int(directory.split(\"/\")[-1].replace('c','')))\n",
    "    \n",
    "    X_Train, X_Test, Y_Train, Y_Test =  train_test_split(listOfimg,labelsList, test_size = 0.2)\n",
    "    Y_Train = tf.keras.utils.to_categorical(Y_Train, num_classes=10)\n",
    "    Y_Test = tf.keras.utils.to_categorical(Y_Test, num_classes=10)\n",
    "\n",
    "    return np.array(X_Train), np.array(X_Test), Y_Train, Y_Test"
   ]
  },
  {
   "cell_type": "code",
   "execution_count": 91,
   "metadata": {},
   "outputs": [
    {
     "name": "stdout",
     "output_type": "stream",
     "text": [
      "Size X_Train: 17939, Size Y_Train: 17939\n",
      "Size X_Test: 4485, Size Y_Test: 4485\n"
     ]
    }
   ],
   "source": [
    "#List of Images for Train and Test\n",
    "X_Train, X_Test, Y_Train, Y_Test = _prepareData(img_path)\n",
    "\n",
    "print(\"Size X_Train: {}, Size Y_Train: {}\".format(len(X_Train),len(Y_Train)))\n",
    "print(\"Size X_Test: {}, Size Y_Test: {}\".format(len(X_Test),len(Y_Test)))"
   ]
  },
  {
   "cell_type": "code",
   "execution_count": 92,
   "metadata": {},
   "outputs": [],
   "source": [
    "def create_model(input_shape, num_classes):\n",
    "    model = tf.keras.Sequential([\n",
    "    tf.keras.Input(shape=input_shape),\n",
    "    tf.keras.layers.Conv2D(32, 3, activation='relu'),\n",
    "    tf.keras.layers.MaxPooling2D(),\n",
    "    tf.keras.layers.Conv2D(32, 3, activation='relu'),\n",
    "    tf.keras.layers.MaxPooling2D(),\n",
    "    tf.keras.layers.Conv2D(32, 3, activation='relu'),\n",
    "    tf.keras.layers.MaxPooling2D(),\n",
    "    tf.keras.layers.Flatten(),\n",
    "    tf.keras.layers.Dense(128, activation='relu'),\n",
    "    tf.keras.layers.Dense(num_classes)\n",
    "    ])\n",
    "    return model"
   ]
  },
  {
   "cell_type": "code",
   "execution_count": 3,
   "metadata": {},
   "outputs": [],
   "source": [
    "NUM_CLASSES = 10\n",
    "LEARNING_RATE = 0.0001\n",
    "NUM_EPOCHS = 10\n",
    "BATCH_SIZE = 8\n",
    "INPUT_SHAPE = (112,112,3)"
   ]
  },
  {
   "cell_type": "code",
   "execution_count": 93,
   "metadata": {},
   "outputs": [],
   "source": [
    "\n",
    "\n",
    "def compile_model(model, learning_rate):\n",
    "    model.compile(optimizer=tf.keras.optimizers.SGD(learning_rate=learning_rate),\n",
    "                loss=tf.keras.losses.CategoricalCrossentropy(from_logits=True),\n",
    "                metrics=['accuracy'])\n",
    "    print(model.summary())\n",
    "    return model\n",
    "\n",
    "\n",
    "def fit_model(model, initial_epochs, batch_size, train_data, train_labels):\n",
    "    history = model.fit(x = train_data, y = train_labels,\n",
    "                        epochs = initial_epochs, batch_size = batch_size,\n",
    "                        verbose = 1,validation_split=0.2)\n",
    "    model.save(weights_path+\"_model.h5\")\n",
    "    return history\n",
    "\n",
    "def plot_accuracy(history, model_name):\n",
    "    plt.plot(history.history['accuracy'])\n",
    "    plt.plot(history.history['val_accuracy'])\n",
    "\n",
    "    plt.title(model_name+' Accuray')\n",
    "    plt.ylabel('accuracy')\n",
    "    plt.xlabel('epoch')\n",
    "    #plt.ylim([0.9,1])\n",
    "    plt.legend(['train','test'], loc='upper left')\n",
    "    plt.show()\n",
    "    \n",
    "def plot_loss(history, model_name):\n",
    "    plt.plot(history.history['loss'])\n",
    "    plt.plot(history.history['val_loss'])\n",
    "\n",
    "    plt.title(model_name+' Loss')\n",
    "    plt.ylabel('loss')\n",
    "    plt.xlabel('epoch')\n",
    "    #plt.ylim([0,.4])\n",
    "    plt.legend(['train','test'], loc='upper left')\n",
    "    plt.show()\n"
   ]
  },
  {
   "cell_type": "code",
   "execution_count": 94,
   "metadata": {},
   "outputs": [
    {
     "name": "stdout",
     "output_type": "stream",
     "text": [
      "Model: \"sequential\"\n",
      "_________________________________________________________________\n",
      " Layer (type)                Output Shape              Param #   \n",
      "=================================================================\n",
      " conv2d (Conv2D)             (None, 110, 110, 32)      896       \n",
      "                                                                 \n",
      " max_pooling2d (MaxPooling2D  (None, 55, 55, 32)       0         \n",
      " )                                                               \n",
      "                                                                 \n",
      " conv2d_1 (Conv2D)           (None, 53, 53, 32)        9248      \n",
      "                                                                 \n",
      " max_pooling2d_1 (MaxPooling  (None, 26, 26, 32)       0         \n",
      " 2D)                                                             \n",
      "                                                                 \n",
      " conv2d_2 (Conv2D)           (None, 24, 24, 32)        9248      \n",
      "                                                                 \n",
      " max_pooling2d_2 (MaxPooling  (None, 12, 12, 32)       0         \n",
      " 2D)                                                             \n",
      "                                                                 \n",
      " flatten (Flatten)           (None, 4608)              0         \n",
      "                                                                 \n",
      " dense (Dense)               (None, 128)               589952    \n",
      "                                                                 \n",
      " dense_1 (Dense)             (None, 10)                1290      \n",
      "                                                                 \n",
      "=================================================================\n",
      "Total params: 610,634\n",
      "Trainable params: 610,634\n",
      "Non-trainable params: 0\n",
      "_________________________________________________________________\n",
      "None\n",
      "Epoch 1/10\n",
      "1794/1794 [==============================] - 138s 77ms/step - loss: 1.9669 - accuracy: 0.4022 - val_loss: 1.1651 - val_accuracy: 0.6290\n",
      "Epoch 2/10\n",
      "1794/1794 [==============================] - 147s 82ms/step - loss: 0.8069 - accuracy: 0.7390 - val_loss: 0.6735 - val_accuracy: 0.7851\n",
      "Epoch 3/10\n",
      "1794/1794 [==============================] - 115s 64ms/step - loss: 0.4345 - accuracy: 0.8687 - val_loss: 0.3776 - val_accuracy: 0.8913\n",
      "Epoch 4/10\n",
      "1794/1794 [==============================] - 132s 74ms/step - loss: 0.2718 - accuracy: 0.9227 - val_loss: 0.3246 - val_accuracy: 0.8969\n",
      "Epoch 5/10\n",
      "1794/1794 [==============================] - 144s 80ms/step - loss: 0.1894 - accuracy: 0.9466 - val_loss: 0.2221 - val_accuracy: 0.9378\n",
      "Epoch 6/10\n",
      "1794/1794 [==============================] - 158s 88ms/step - loss: 0.1394 - accuracy: 0.9612 - val_loss: 0.2063 - val_accuracy: 0.9431\n",
      "Epoch 7/10\n",
      "1794/1794 [==============================] - 139s 77ms/step - loss: 0.1034 - accuracy: 0.9739 - val_loss: 0.1609 - val_accuracy: 0.9585\n",
      "Epoch 8/10\n",
      "1794/1794 [==============================] - 126s 70ms/step - loss: 0.0807 - accuracy: 0.9788 - val_loss: 0.1450 - val_accuracy: 0.9643\n",
      "Epoch 9/10\n",
      "1794/1794 [==============================] - 132s 73ms/step - loss: 0.0666 - accuracy: 0.9831 - val_loss: 0.1358 - val_accuracy: 0.9668\n",
      "Epoch 10/10\n",
      "1794/1794 [==============================] - 133s 74ms/step - loss: 0.0518 - accuracy: 0.9877 - val_loss: 0.1314 - val_accuracy: 0.9646\n"
     ]
    }
   ],
   "source": [
    "custom = create_model(INPUT_SHAPE, NUM_CLASSES)\n",
    "custom_model = compile_model(custom, LEARNING_RATE)\n",
    "cus_history = fit_model(custom_model, NUM_EPOCHS, BATCH_SIZE, X_Train, Y_Train)"
   ]
  },
  {
   "cell_type": "code",
   "execution_count": 95,
   "metadata": {},
   "outputs": [
    {
     "data": {
      "image/png": "[encoded data removed]",
      "text/plain": [
       "<Figure size 432x288 with 1 Axes>"
      ]
     },
     "metadata": {
      "needs_background": "light"
     },
     "output_type": "display_data"
    },
    {
     "data": {
      "image/png": "[encoded data removed]",
      "text/plain": [
       "<Figure size 432x288 with 1 Axes>"
      ]
     },
     "metadata": {
      "needs_background": "light"
     },
     "output_type": "display_data"
    }
   ],
   "source": [
    "plot_loss(cus_history, 'Custom-CNN')\n",
    "plot_accuracy(cus_history, 'Custom-CNN')"
   ]
  },
  {
   "cell_type": "code",
   "execution_count": 99,
   "metadata": {},
   "outputs": [
    {
     "name": "stdout",
     "output_type": "stream",
     "text": [
      "141/141 [==============================] - 6s 42ms/step - loss: 0.1134 - accuracy: 0.9659\n"
     ]
    }
   ],
   "source": [
    "test_loss, test_acc = custom_model.evaluate(X_Test, Y_Test, verbose = 1)"
   ]
  },
  {
   "cell_type": "code",
   "execution_count": 4,
   "metadata": {},
   "outputs": [],
   "source": [
    "img = image.load_img(test_path+'img_18.jpg', target_size=(112, 112))"
   ]
  },
  {
   "cell_type": "code",
   "execution_count": 5,
   "metadata": {},
   "outputs": [],
   "source": [
    "img_array = image.img_to_array(img)\n",
    "img_batch = np.expand_dims(img_array, axis=0)\n",
    "image = np.vstack([img_batch])"
   ]
  },
  {
   "cell_type": "code",
   "execution_count": 6,
   "metadata": {},
   "outputs": [],
   "source": [
    "model = keras.models.load_model(weights_path+'_model.h5')"
   ]
  },
  {
   "cell_type": "code",
   "execution_count": 7,
   "metadata": {},
   "outputs": [],
   "source": [
    "prediction = model.predict(image)"
   ]
  },
  {
   "cell_type": "code",
   "execution_count": 8,
   "metadata": {},
   "outputs": [
    {
     "name": "stdout",
     "output_type": "stream",
     "text": [
      "[1]\n"
     ]
    }
   ],
   "source": [
    "class_pred =np.argmax(prediction,axis=1)\n",
    "print(class_pred)"
   ]
  },
  {
   "cell_type": "code",
   "execution_count": 9,
   "metadata": {},
   "outputs": [
    {
     "name": "stdout",
     "output_type": "stream",
     "text": [
      "texting - right\n"
     ]
    }
   ],
   "source": [
    "predicted_class_name = [class_mapper[k] for k in class_pred]\n",
    "print(predicted_class_name[0])"
   ]
  },
  {
   "cell_type": "code",
   "execution_count": null,
   "metadata": {},
   "outputs": [],
   "source": [
    "import json\n",
    " \n",
    "# Opening JSON file\n",
    "with open('concepts.json') as json_file:\n",
    "    data = json.load(json_file)\n",
    " \n",
    "    # Print the type of data variable\n",
    "    print(\"Type:\", type(data))"
   ]
  }
 ],
 "metadata": {
  "kernelspec": {
   "display_name": "Python 3",
   "language": "python",
   "name": "python3"
  },
  "language_info": {
   "codemirror_mode": {
    "name": "ipython",
    "version": 3
   },
   "file_extension": ".py",
   "mimetype": "text/x-python",
   "name": "python",
   "nbconvert_exporter": "python",
   "pygments_lexer": "ipython3",
   "version": "3.8.3"
  }
 },
 "nbformat": 4,
 "nbformat_minor": 4
}
